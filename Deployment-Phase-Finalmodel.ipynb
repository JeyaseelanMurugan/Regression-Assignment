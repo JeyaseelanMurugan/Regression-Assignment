{
 "cells": [
  {
   "cell_type": "code",
   "execution_count": 11,
   "id": "61063417-5059-4d4a-884c-933e8587c370",
   "metadata": {},
   "outputs": [],
   "source": [
    "import pickle"
   ]
  },
  {
   "cell_type": "code",
   "execution_count": 16,
   "id": "0ba675a6-c0dd-4de8-8e87-84fda0b0fc00",
   "metadata": {},
   "outputs": [
    {
     "name": "stderr",
     "output_type": "stream",
     "text": [
      "C:\\Users\\Asus\\anaconda3\\Lib\\site-packages\\sklearn\\utils\\validation.py:2739: UserWarning: X does not have valid feature names, but RandomForestRegressor was fitted with feature names\n",
      "  warnings.warn(\n"
     ]
    }
   ],
   "source": [
    "loaded_model=pickle.load(open(\"finalized_model_Forest.sav\", 'rb'))\n",
    "result=loaded_model.predict([[18,33.7,1,0,0]])"
   ]
  },
  {
   "cell_type": "code",
   "execution_count": 17,
   "id": "9926309e-95de-45cb-8bd1-b40560ac3df9",
   "metadata": {},
   "outputs": [
    {
     "data": {
      "text/plain": [
       "array([3813.21333333])"
      ]
     },
     "execution_count": 17,
     "metadata": {},
     "output_type": "execute_result"
    }
   ],
   "source": [
    "result"
   ]
  },
  {
   "cell_type": "code",
   "execution_count": null,
   "id": "8110a8b7-943f-4997-9ecf-25ac5f390d93",
   "metadata": {},
   "outputs": [],
   "source": []
  }
 ],
 "metadata": {
  "kernelspec": {
   "display_name": "Python 3 (ipykernel)",
   "language": "python",
   "name": "python3"
  },
  "language_info": {
   "codemirror_mode": {
    "name": "ipython",
    "version": 3
   },
   "file_extension": ".py",
   "mimetype": "text/x-python",
   "name": "python",
   "nbconvert_exporter": "python",
   "pygments_lexer": "ipython3",
   "version": "3.13.5"
  }
 },
 "nbformat": 4,
 "nbformat_minor": 5
}
